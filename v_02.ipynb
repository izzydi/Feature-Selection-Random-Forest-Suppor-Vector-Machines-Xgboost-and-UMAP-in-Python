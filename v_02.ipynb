{
 "cells": [
  {
   "cell_type": "code",
   "execution_count": 1,
   "id": "b8664b5c",
   "metadata": {},
   "outputs": [
    {
     "name": "stderr",
     "output_type": "stream",
     "text": [
      "c:\\users\\izzyd\\anaconda3\\lib\\site-packages\\xgboost\\compat.py:36: FutureWarning: pandas.Int64Index is deprecated and will be removed from pandas in a future version. Use pandas.Index with the appropriate dtype instead.\n",
      "  from pandas import MultiIndex, Int64Index\n"
     ]
    }
   ],
   "source": [
    "import pandas as pd\n",
    "import numpy as np\n",
    "import umap.umap_ as umap  # pip install umap-learn\n",
    "import umap.plot  # pip install umap-learn[plot]\n",
    "import matplotlib.pyplot as plt\n",
    "import seaborn as sns # for statistical data visualization\n",
    "%matplotlib inline\n",
    "\n",
    "from sklearn.model_selection import train_test_split, cross_val_score\n",
    "from sklearn.svm import SVC\n",
    "from sklearn.pipeline import make_pipeline\n",
    "from sklearn.preprocessing import QuantileTransformer\n",
    "from sklearn.preprocessing import StandardScaler\n",
    "from sklearn.preprocessing import RobustScaler\n",
    "from sklearn.metrics import f1_score\n",
    "from sklearn.feature_selection import SelectKBest\n",
    "from sklearn.feature_selection import f_classif\n",
    "from sklearn.naive_bayes import GaussianNB\n",
    "from sklearn.metrics import accuracy_score\n",
    "from sklearn.metrics import confusion_matrix\n",
    "from sklearn.metrics import classification_report\n",
    "from sklearn.metrics import roc_auc_score\n",
    "from sklearn.ensemble import RandomForestClassifier\n",
    "import xgboost as xgb"
   ]
  },
  {
   "cell_type": "code",
   "execution_count": 2,
   "id": "edcb5067",
   "metadata": {},
   "outputs": [
    {
     "name": "stdout",
     "output_type": "stream",
     "text": [
      "['V0', 'V1', 'V2', 'V3', 'V4', 'V5', 'V6', 'V7', 'V8', 'V9', 'V10', 'V11', 'V12', 'V13', 'V14', 'V15', 'V16', 'V17', 'V18', 'V19', 'V20', 'V21', 'V22', 'V23', 'V24', 'V25', 'V26', 'V27', 'V28', 'V29', 'V30', 'V31', 'V32', 'V33', 'V34', 'V35', 'V36', 'V37', 'V38', 'V39', 'V40', 'V41', 'V42', 'V43', 'V44', 'V45', 'V46', 'V47', 'V48', 'V49', 'V50', 'V51', 'V52', 'V53', 'V54', 'V55', 'V56', 'V57', 'V58', 'V59', 'V60', 'V61', 'V62', 'V63', 'V64', 'V65', 'V66', 'V67', 'V68', 'V69', 'V70', 'V71', 'V72', 'V73', 'V74', 'V75', 'V76', 'V77', 'V78', 'V79', 'V80', 'V81', 'V82', 'V83', 'V84', 'V85', 'V86', 'V87', 'V88', 'V89', 'V90', 'V91', 'V92', 'V93', 'V94', 'V95', 'V96', 'V97', 'V98', 'V99', 'V100', 'V101', 'V102', 'V103', 'V104', 'V105', 'V106', 'V107', 'V108', 'V109', 'V110', 'V111', 'V112']\n"
     ]
    },
    {
     "data": {
      "text/plain": [
       "113"
      ]
     },
     "execution_count": 2,
     "metadata": {},
     "output_type": "execute_result"
    }
   ],
   "source": [
    "header_list =[\"V\"+str(i) for i in range(0, 113)]\n",
    "print(header_list)\n",
    "len(header_list)"
   ]
  },
  {
   "cell_type": "code",
   "execution_count": 3,
   "id": "93ee2431",
   "metadata": {},
   "outputs": [
    {
     "data": {
      "text/html": [
       "<div>\n",
       "<style scoped>\n",
       "    .dataframe tbody tr th:only-of-type {\n",
       "        vertical-align: middle;\n",
       "    }\n",
       "\n",
       "    .dataframe tbody tr th {\n",
       "        vertical-align: top;\n",
       "    }\n",
       "\n",
       "    .dataframe thead th {\n",
       "        text-align: right;\n",
       "    }\n",
       "</style>\n",
       "<table border=\"1\" class=\"dataframe\">\n",
       "  <thead>\n",
       "    <tr style=\"text-align: right;\">\n",
       "      <th></th>\n",
       "      <th>0</th>\n",
       "      <th>1</th>\n",
       "      <th>2</th>\n",
       "      <th>3</th>\n",
       "      <th>4</th>\n",
       "      <th>5</th>\n",
       "      <th>6</th>\n",
       "      <th>7</th>\n",
       "      <th>8</th>\n",
       "      <th>9</th>\n",
       "      <th>...</th>\n",
       "      <th>106</th>\n",
       "      <th>107</th>\n",
       "      <th>108</th>\n",
       "      <th>109</th>\n",
       "      <th>110</th>\n",
       "      <th>111</th>\n",
       "      <th>112</th>\n",
       "      <th>113</th>\n",
       "      <th>114</th>\n",
       "      <th>115</th>\n",
       "    </tr>\n",
       "  </thead>\n",
       "  <tbody>\n",
       "    <tr>\n",
       "      <th>0</th>\n",
       "      <td>-0.413479</td>\n",
       "      <td>0.012662</td>\n",
       "      <td>0.000245</td>\n",
       "      <td>-1.320642e-06</td>\n",
       "      <td>-1.293960e-08</td>\n",
       "      <td>4.241382e-11</td>\n",
       "      <td>2.776066e-13</td>\n",
       "      <td>-0.001858</td>\n",
       "      <td>-0.000050</td>\n",
       "      <td>3.258404e-07</td>\n",
       "      <td>...</td>\n",
       "      <td>-5.248749e-09</td>\n",
       "      <td>1.855230e-11</td>\n",
       "      <td>1.212155e-13</td>\n",
       "      <td>1.477309e-11</td>\n",
       "      <td>1.009817e-13</td>\n",
       "      <td>7.930462e-14</td>\n",
       "      <td>0</td>\n",
       "      <td>41</td>\n",
       "      <td>0.014645</td>\n",
       "      <td>8</td>\n",
       "    </tr>\n",
       "    <tr>\n",
       "      <th>1</th>\n",
       "      <td>-0.390359</td>\n",
       "      <td>0.008407</td>\n",
       "      <td>0.000112</td>\n",
       "      <td>-5.214329e-07</td>\n",
       "      <td>-4.182755e-09</td>\n",
       "      <td>1.291625e-11</td>\n",
       "      <td>7.446244e-14</td>\n",
       "      <td>0.010432</td>\n",
       "      <td>0.000160</td>\n",
       "      <td>-7.873437e-07</td>\n",
       "      <td>...</td>\n",
       "      <td>-7.252745e-12</td>\n",
       "      <td>3.808366e-14</td>\n",
       "      <td>4.649059e-16</td>\n",
       "      <td>-3.663736e-15</td>\n",
       "      <td>-8.326673e-17</td>\n",
       "      <td>-2.081668e-17</td>\n",
       "      <td>0</td>\n",
       "      <td>41</td>\n",
       "      <td>0.014645</td>\n",
       "      <td>8</td>\n",
       "    </tr>\n",
       "    <tr>\n",
       "      <th>2</th>\n",
       "      <td>-0.350747</td>\n",
       "      <td>0.014758</td>\n",
       "      <td>0.000227</td>\n",
       "      <td>-1.537213e-06</td>\n",
       "      <td>-1.194740e-08</td>\n",
       "      <td>4.934601e-11</td>\n",
       "      <td>2.560606e-13</td>\n",
       "      <td>-0.002180</td>\n",
       "      <td>-0.000046</td>\n",
       "      <td>3.806353e-07</td>\n",
       "      <td>...</td>\n",
       "      <td>-4.833659e-09</td>\n",
       "      <td>2.147544e-11</td>\n",
       "      <td>1.117439e-13</td>\n",
       "      <td>1.711303e-11</td>\n",
       "      <td>9.311302e-14</td>\n",
       "      <td>7.310125e-14</td>\n",
       "      <td>0</td>\n",
       "      <td>41</td>\n",
       "      <td>0.014645</td>\n",
       "      <td>8</td>\n",
       "    </tr>\n",
       "    <tr>\n",
       "      <th>3</th>\n",
       "      <td>-0.323924</td>\n",
       "      <td>0.009698</td>\n",
       "      <td>0.000103</td>\n",
       "      <td>-6.021938e-07</td>\n",
       "      <td>-3.846630e-09</td>\n",
       "      <td>1.492506e-11</td>\n",
       "      <td>6.848757e-14</td>\n",
       "      <td>0.012055</td>\n",
       "      <td>0.000147</td>\n",
       "      <td>-9.097536e-07</td>\n",
       "      <td>...</td>\n",
       "      <td>-6.717177e-12</td>\n",
       "      <td>4.448270e-14</td>\n",
       "      <td>4.683753e-16</td>\n",
       "      <td>-4.246603e-15</td>\n",
       "      <td>-4.857226e-17</td>\n",
       "      <td>-6.938894e-18</td>\n",
       "      <td>0</td>\n",
       "      <td>41</td>\n",
       "      <td>0.014645</td>\n",
       "      <td>8</td>\n",
       "    </tr>\n",
       "    <tr>\n",
       "      <th>4</th>\n",
       "      <td>-0.278695</td>\n",
       "      <td>0.016677</td>\n",
       "      <td>0.000205</td>\n",
       "      <td>-1.735297e-06</td>\n",
       "      <td>-1.081151e-08</td>\n",
       "      <td>5.568475e-11</td>\n",
       "      <td>2.314309e-13</td>\n",
       "      <td>-0.002476</td>\n",
       "      <td>-0.000042</td>\n",
       "      <td>4.308525e-07</td>\n",
       "      <td>...</td>\n",
       "      <td>-4.360439e-09</td>\n",
       "      <td>2.414026e-11</td>\n",
       "      <td>1.008586e-13</td>\n",
       "      <td>1.924716e-11</td>\n",
       "      <td>8.410633e-14</td>\n",
       "      <td>6.602358e-14</td>\n",
       "      <td>0</td>\n",
       "      <td>41</td>\n",
       "      <td>0.014645</td>\n",
       "      <td>8</td>\n",
       "    </tr>\n",
       "  </tbody>\n",
       "</table>\n",
       "<p>5 rows × 116 columns</p>\n",
       "</div>"
      ],
      "text/plain": [
       "        0         1         2             3             4             5    \\\n",
       "0 -0.413479  0.012662  0.000245 -1.320642e-06 -1.293960e-08  4.241382e-11   \n",
       "1 -0.390359  0.008407  0.000112 -5.214329e-07 -4.182755e-09  1.291625e-11   \n",
       "2 -0.350747  0.014758  0.000227 -1.537213e-06 -1.194740e-08  4.934601e-11   \n",
       "3 -0.323924  0.009698  0.000103 -6.021938e-07 -3.846630e-09  1.492506e-11   \n",
       "4 -0.278695  0.016677  0.000205 -1.735297e-06 -1.081151e-08  5.568475e-11   \n",
       "\n",
       "            6         7         8             9    ...           106  \\\n",
       "0  2.776066e-13 -0.001858 -0.000050  3.258404e-07  ... -5.248749e-09   \n",
       "1  7.446244e-14  0.010432  0.000160 -7.873437e-07  ... -7.252745e-12   \n",
       "2  2.560606e-13 -0.002180 -0.000046  3.806353e-07  ... -4.833659e-09   \n",
       "3  6.848757e-14  0.012055  0.000147 -9.097536e-07  ... -6.717177e-12   \n",
       "4  2.314309e-13 -0.002476 -0.000042  4.308525e-07  ... -4.360439e-09   \n",
       "\n",
       "            107           108           109           110           111  112  \\\n",
       "0  1.855230e-11  1.212155e-13  1.477309e-11  1.009817e-13  7.930462e-14    0   \n",
       "1  3.808366e-14  4.649059e-16 -3.663736e-15 -8.326673e-17 -2.081668e-17    0   \n",
       "2  2.147544e-11  1.117439e-13  1.711303e-11  9.311302e-14  7.310125e-14    0   \n",
       "3  4.448270e-14  4.683753e-16 -4.246603e-15 -4.857226e-17 -6.938894e-18    0   \n",
       "4  2.414026e-11  1.008586e-13  1.924716e-11  8.410633e-14  6.602358e-14    0   \n",
       "\n",
       "   113       114  115  \n",
       "0   41  0.014645    8  \n",
       "1   41  0.014645    8  \n",
       "2   41  0.014645    8  \n",
       "3   41  0.014645    8  \n",
       "4   41  0.014645    8  \n",
       "\n",
       "[5 rows x 116 columns]"
      ]
     },
     "execution_count": 3,
     "metadata": {},
     "output_type": "execute_result"
    }
   ],
   "source": [
    "df = pd.read_csv(\n",
    "    \n",
    "                \"D:/DataAskiseis/New_Disq_Functions/malakas_2.csv\",\n",
    "                 skiprows= 1700000,\n",
    "                 nrows=800000,\n",
    "                 header = None\n",
    ")\n",
    "\n",
    "df.head()"
   ]
  },
  {
   "cell_type": "code",
   "execution_count": 4,
   "id": "b3f1c79a",
   "metadata": {},
   "outputs": [
    {
     "data": {
      "text/plain": [
       "Int64Index([  0,   1,   2,   3,   4,   5,   6,   7,   8,   9,\n",
       "            ...\n",
       "            103, 104, 105, 106, 107, 108, 109, 110, 111, 112],\n",
       "           dtype='int64', length=113)"
      ]
     },
     "execution_count": 4,
     "metadata": {},
     "output_type": "execute_result"
    }
   ],
   "source": [
    "df.drop([113,114,115], axis = 1,inplace=True)\n",
    "df.columns"
   ]
  },
  {
   "cell_type": "code",
   "execution_count": 5,
   "id": "f62e2162",
   "metadata": {},
   "outputs": [
    {
     "data": {
      "text/plain": [
       "(800000, 113)"
      ]
     },
     "execution_count": 5,
     "metadata": {},
     "output_type": "execute_result"
    }
   ],
   "source": [
    "df.shape"
   ]
  },
  {
   "cell_type": "code",
   "execution_count": 6,
   "id": "cb7cdeb4",
   "metadata": {},
   "outputs": [
    {
     "data": {
      "text/html": [
       "<div>\n",
       "<style scoped>\n",
       "    .dataframe tbody tr th:only-of-type {\n",
       "        vertical-align: middle;\n",
       "    }\n",
       "\n",
       "    .dataframe tbody tr th {\n",
       "        vertical-align: top;\n",
       "    }\n",
       "\n",
       "    .dataframe thead th {\n",
       "        text-align: right;\n",
       "    }\n",
       "</style>\n",
       "<table border=\"1\" class=\"dataframe\">\n",
       "  <thead>\n",
       "    <tr style=\"text-align: right;\">\n",
       "      <th></th>\n",
       "      <th>V0</th>\n",
       "      <th>V1</th>\n",
       "      <th>V2</th>\n",
       "      <th>V3</th>\n",
       "      <th>V4</th>\n",
       "      <th>V5</th>\n",
       "      <th>V6</th>\n",
       "      <th>V7</th>\n",
       "      <th>V8</th>\n",
       "      <th>V9</th>\n",
       "      <th>...</th>\n",
       "      <th>V103</th>\n",
       "      <th>V104</th>\n",
       "      <th>V105</th>\n",
       "      <th>V106</th>\n",
       "      <th>V107</th>\n",
       "      <th>V108</th>\n",
       "      <th>V109</th>\n",
       "      <th>V110</th>\n",
       "      <th>V111</th>\n",
       "      <th>V112</th>\n",
       "    </tr>\n",
       "  </thead>\n",
       "  <tbody>\n",
       "    <tr>\n",
       "      <th>0</th>\n",
       "      <td>-0.413479</td>\n",
       "      <td>0.012662</td>\n",
       "      <td>0.000245</td>\n",
       "      <td>-1.320642e-06</td>\n",
       "      <td>-1.293960e-08</td>\n",
       "      <td>4.241382e-11</td>\n",
       "      <td>2.776066e-13</td>\n",
       "      <td>-0.001858</td>\n",
       "      <td>-0.000050</td>\n",
       "      <td>3.258404e-07</td>\n",
       "      <td>...</td>\n",
       "      <td>-6.392300e-09</td>\n",
       "      <td>2.162212e-11</td>\n",
       "      <td>1.353675e-13</td>\n",
       "      <td>-5.248749e-09</td>\n",
       "      <td>1.855230e-11</td>\n",
       "      <td>1.212155e-13</td>\n",
       "      <td>1.477309e-11</td>\n",
       "      <td>1.009817e-13</td>\n",
       "      <td>7.930462e-14</td>\n",
       "      <td>0</td>\n",
       "    </tr>\n",
       "    <tr>\n",
       "      <th>1</th>\n",
       "      <td>-0.390359</td>\n",
       "      <td>0.008407</td>\n",
       "      <td>0.000112</td>\n",
       "      <td>-5.214329e-07</td>\n",
       "      <td>-4.182755e-09</td>\n",
       "      <td>1.291625e-11</td>\n",
       "      <td>7.446244e-14</td>\n",
       "      <td>0.010432</td>\n",
       "      <td>0.000160</td>\n",
       "      <td>-7.873437e-07</td>\n",
       "      <td>...</td>\n",
       "      <td>7.269319e-11</td>\n",
       "      <td>-3.492920e-13</td>\n",
       "      <td>-3.420692e-15</td>\n",
       "      <td>-7.252745e-12</td>\n",
       "      <td>3.808366e-14</td>\n",
       "      <td>4.649059e-16</td>\n",
       "      <td>-3.663736e-15</td>\n",
       "      <td>-8.326673e-17</td>\n",
       "      <td>-2.081668e-17</td>\n",
       "      <td>0</td>\n",
       "    </tr>\n",
       "    <tr>\n",
       "      <th>2</th>\n",
       "      <td>-0.350747</td>\n",
       "      <td>0.014758</td>\n",
       "      <td>0.000227</td>\n",
       "      <td>-1.537213e-06</td>\n",
       "      <td>-1.194740e-08</td>\n",
       "      <td>4.934601e-11</td>\n",
       "      <td>2.560606e-13</td>\n",
       "      <td>-0.002180</td>\n",
       "      <td>-0.000046</td>\n",
       "      <td>3.806353e-07</td>\n",
       "      <td>...</td>\n",
       "      <td>-5.883972e-09</td>\n",
       "      <td>2.501303e-11</td>\n",
       "      <td>1.246939e-13</td>\n",
       "      <td>-4.833659e-09</td>\n",
       "      <td>2.147544e-11</td>\n",
       "      <td>1.117439e-13</td>\n",
       "      <td>1.711303e-11</td>\n",
       "      <td>9.311302e-14</td>\n",
       "      <td>7.310125e-14</td>\n",
       "      <td>0</td>\n",
       "    </tr>\n",
       "    <tr>\n",
       "      <th>3</th>\n",
       "      <td>-0.323924</td>\n",
       "      <td>0.009698</td>\n",
       "      <td>0.000103</td>\n",
       "      <td>-6.021938e-07</td>\n",
       "      <td>-3.846630e-09</td>\n",
       "      <td>1.492506e-11</td>\n",
       "      <td>6.848757e-14</td>\n",
       "      <td>0.012055</td>\n",
       "      <td>0.000147</td>\n",
       "      <td>-9.097536e-07</td>\n",
       "      <td>...</td>\n",
       "      <td>6.722421e-11</td>\n",
       "      <td>-4.070200e-13</td>\n",
       "      <td>-3.185455e-15</td>\n",
       "      <td>-6.717177e-12</td>\n",
       "      <td>4.448270e-14</td>\n",
       "      <td>4.683753e-16</td>\n",
       "      <td>-4.246603e-15</td>\n",
       "      <td>-4.857226e-17</td>\n",
       "      <td>-6.938894e-18</td>\n",
       "      <td>0</td>\n",
       "    </tr>\n",
       "    <tr>\n",
       "      <th>4</th>\n",
       "      <td>-0.278695</td>\n",
       "      <td>0.016677</td>\n",
       "      <td>0.000205</td>\n",
       "      <td>-1.735297e-06</td>\n",
       "      <td>-1.081151e-08</td>\n",
       "      <td>5.568475e-11</td>\n",
       "      <td>2.314309e-13</td>\n",
       "      <td>-0.002476</td>\n",
       "      <td>-0.000042</td>\n",
       "      <td>4.308525e-07</td>\n",
       "      <td>...</td>\n",
       "      <td>-5.304882e-09</td>\n",
       "      <td>2.810315e-11</td>\n",
       "      <td>1.125119e-13</td>\n",
       "      <td>-4.360439e-09</td>\n",
       "      <td>2.414026e-11</td>\n",
       "      <td>1.008586e-13</td>\n",
       "      <td>1.924716e-11</td>\n",
       "      <td>8.410633e-14</td>\n",
       "      <td>6.602358e-14</td>\n",
       "      <td>0</td>\n",
       "    </tr>\n",
       "  </tbody>\n",
       "</table>\n",
       "<p>5 rows × 113 columns</p>\n",
       "</div>"
      ],
      "text/plain": [
       "         V0        V1        V2            V3            V4            V5  \\\n",
       "0 -0.413479  0.012662  0.000245 -1.320642e-06 -1.293960e-08  4.241382e-11   \n",
       "1 -0.390359  0.008407  0.000112 -5.214329e-07 -4.182755e-09  1.291625e-11   \n",
       "2 -0.350747  0.014758  0.000227 -1.537213e-06 -1.194740e-08  4.934601e-11   \n",
       "3 -0.323924  0.009698  0.000103 -6.021938e-07 -3.846630e-09  1.492506e-11   \n",
       "4 -0.278695  0.016677  0.000205 -1.735297e-06 -1.081151e-08  5.568475e-11   \n",
       "\n",
       "             V6        V7        V8            V9  ...          V103  \\\n",
       "0  2.776066e-13 -0.001858 -0.000050  3.258404e-07  ... -6.392300e-09   \n",
       "1  7.446244e-14  0.010432  0.000160 -7.873437e-07  ...  7.269319e-11   \n",
       "2  2.560606e-13 -0.002180 -0.000046  3.806353e-07  ... -5.883972e-09   \n",
       "3  6.848757e-14  0.012055  0.000147 -9.097536e-07  ...  6.722421e-11   \n",
       "4  2.314309e-13 -0.002476 -0.000042  4.308525e-07  ... -5.304882e-09   \n",
       "\n",
       "           V104          V105          V106          V107          V108  \\\n",
       "0  2.162212e-11  1.353675e-13 -5.248749e-09  1.855230e-11  1.212155e-13   \n",
       "1 -3.492920e-13 -3.420692e-15 -7.252745e-12  3.808366e-14  4.649059e-16   \n",
       "2  2.501303e-11  1.246939e-13 -4.833659e-09  2.147544e-11  1.117439e-13   \n",
       "3 -4.070200e-13 -3.185455e-15 -6.717177e-12  4.448270e-14  4.683753e-16   \n",
       "4  2.810315e-11  1.125119e-13 -4.360439e-09  2.414026e-11  1.008586e-13   \n",
       "\n",
       "           V109          V110          V111  V112  \n",
       "0  1.477309e-11  1.009817e-13  7.930462e-14     0  \n",
       "1 -3.663736e-15 -8.326673e-17 -2.081668e-17     0  \n",
       "2  1.711303e-11  9.311302e-14  7.310125e-14     0  \n",
       "3 -4.246603e-15 -4.857226e-17 -6.938894e-18     0  \n",
       "4  1.924716e-11  8.410633e-14  6.602358e-14     0  \n",
       "\n",
       "[5 rows x 113 columns]"
      ]
     },
     "execution_count": 6,
     "metadata": {},
     "output_type": "execute_result"
    }
   ],
   "source": [
    "df.columns = header_list\n",
    "df.head()"
   ]
  },
  {
   "cell_type": "code",
   "execution_count": 7,
   "id": "3f6b3cad",
   "metadata": {
    "scrolled": true
   },
   "outputs": [
    {
     "data": {
      "text/plain": [
       "Index(['V0', 'V1', 'V2', 'V3', 'V4', 'V5', 'V6', 'V7', 'V8', 'V9',\n",
       "       ...\n",
       "       'V103', 'V104', 'V105', 'V106', 'V107', 'V108', 'V109', 'V110', 'V111',\n",
       "       'V112'],\n",
       "      dtype='object', length=113)"
      ]
     },
     "execution_count": 7,
     "metadata": {},
     "output_type": "execute_result"
    }
   ],
   "source": [
    "df.columns"
   ]
  },
  {
   "cell_type": "code",
   "execution_count": 8,
   "id": "175177ad",
   "metadata": {},
   "outputs": [
    {
     "name": "stdout",
     "output_type": "stream",
     "text": [
      "There are 113 numerical variables\n",
      "\n",
      "The numerical variables are : ['V0', 'V1', 'V2', 'V3', 'V4', 'V5', 'V6', 'V7', 'V8', 'V9', 'V10', 'V11', 'V12', 'V13', 'V14', 'V15', 'V16', 'V17', 'V18', 'V19', 'V20', 'V21', 'V22', 'V23', 'V24', 'V25', 'V26', 'V27', 'V28', 'V29', 'V30', 'V31', 'V32', 'V33', 'V34', 'V35', 'V36', 'V37', 'V38', 'V39', 'V40', 'V41', 'V42', 'V43', 'V44', 'V45', 'V46', 'V47', 'V48', 'V49', 'V50', 'V51', 'V52', 'V53', 'V54', 'V55', 'V56', 'V57', 'V58', 'V59', 'V60', 'V61', 'V62', 'V63', 'V64', 'V65', 'V66', 'V67', 'V68', 'V69', 'V70', 'V71', 'V72', 'V73', 'V74', 'V75', 'V76', 'V77', 'V78', 'V79', 'V80', 'V81', 'V82', 'V83', 'V84', 'V85', 'V86', 'V87', 'V88', 'V89', 'V90', 'V91', 'V92', 'V93', 'V94', 'V95', 'V96', 'V97', 'V98', 'V99', 'V100', 'V101', 'V102', 'V103', 'V104', 'V105', 'V106', 'V107', 'V108', 'V109', 'V110', 'V111', 'V112']\n"
     ]
    }
   ],
   "source": [
    "# find numerical variables\n",
    "numerical = [var for var in df.columns if df[var].dtype!='O']\n",
    "print('There are {} numerical variables\\n'.format(len(numerical)))\n",
    "print('The numerical variables are :', numerical)"
   ]
  },
  {
   "cell_type": "code",
   "execution_count": 9,
   "id": "31450268",
   "metadata": {},
   "outputs": [
    {
     "data": {
      "text/html": [
       "<div>\n",
       "<style scoped>\n",
       "    .dataframe tbody tr th:only-of-type {\n",
       "        vertical-align: middle;\n",
       "    }\n",
       "\n",
       "    .dataframe tbody tr th {\n",
       "        vertical-align: top;\n",
       "    }\n",
       "\n",
       "    .dataframe thead th {\n",
       "        text-align: right;\n",
       "    }\n",
       "</style>\n",
       "<table border=\"1\" class=\"dataframe\">\n",
       "  <thead>\n",
       "    <tr style=\"text-align: right;\">\n",
       "      <th></th>\n",
       "      <th>V0</th>\n",
       "      <th>V1</th>\n",
       "      <th>V2</th>\n",
       "      <th>V3</th>\n",
       "      <th>V4</th>\n",
       "      <th>V5</th>\n",
       "      <th>V6</th>\n",
       "      <th>V7</th>\n",
       "      <th>V8</th>\n",
       "      <th>V9</th>\n",
       "      <th>...</th>\n",
       "      <th>V103</th>\n",
       "      <th>V104</th>\n",
       "      <th>V105</th>\n",
       "      <th>V106</th>\n",
       "      <th>V107</th>\n",
       "      <th>V108</th>\n",
       "      <th>V109</th>\n",
       "      <th>V110</th>\n",
       "      <th>V111</th>\n",
       "      <th>V112</th>\n",
       "    </tr>\n",
       "  </thead>\n",
       "  <tbody>\n",
       "    <tr>\n",
       "      <th>0</th>\n",
       "      <td>-0.413479</td>\n",
       "      <td>0.012662</td>\n",
       "      <td>0.000245</td>\n",
       "      <td>-1.320642e-06</td>\n",
       "      <td>-1.293960e-08</td>\n",
       "      <td>4.241382e-11</td>\n",
       "      <td>2.776066e-13</td>\n",
       "      <td>-0.001858</td>\n",
       "      <td>-0.000050</td>\n",
       "      <td>3.258404e-07</td>\n",
       "      <td>...</td>\n",
       "      <td>-6.392300e-09</td>\n",
       "      <td>2.162212e-11</td>\n",
       "      <td>1.353675e-13</td>\n",
       "      <td>-5.248749e-09</td>\n",
       "      <td>1.855230e-11</td>\n",
       "      <td>1.212155e-13</td>\n",
       "      <td>1.477309e-11</td>\n",
       "      <td>1.009817e-13</td>\n",
       "      <td>7.930462e-14</td>\n",
       "      <td>0</td>\n",
       "    </tr>\n",
       "    <tr>\n",
       "      <th>1</th>\n",
       "      <td>-0.390359</td>\n",
       "      <td>0.008407</td>\n",
       "      <td>0.000112</td>\n",
       "      <td>-5.214329e-07</td>\n",
       "      <td>-4.182755e-09</td>\n",
       "      <td>1.291625e-11</td>\n",
       "      <td>7.446244e-14</td>\n",
       "      <td>0.010432</td>\n",
       "      <td>0.000160</td>\n",
       "      <td>-7.873437e-07</td>\n",
       "      <td>...</td>\n",
       "      <td>7.269319e-11</td>\n",
       "      <td>-3.492920e-13</td>\n",
       "      <td>-3.420692e-15</td>\n",
       "      <td>-7.252745e-12</td>\n",
       "      <td>3.808366e-14</td>\n",
       "      <td>4.649059e-16</td>\n",
       "      <td>-3.663736e-15</td>\n",
       "      <td>-8.326673e-17</td>\n",
       "      <td>-2.081668e-17</td>\n",
       "      <td>0</td>\n",
       "    </tr>\n",
       "    <tr>\n",
       "      <th>2</th>\n",
       "      <td>-0.350747</td>\n",
       "      <td>0.014758</td>\n",
       "      <td>0.000227</td>\n",
       "      <td>-1.537213e-06</td>\n",
       "      <td>-1.194740e-08</td>\n",
       "      <td>4.934601e-11</td>\n",
       "      <td>2.560606e-13</td>\n",
       "      <td>-0.002180</td>\n",
       "      <td>-0.000046</td>\n",
       "      <td>3.806353e-07</td>\n",
       "      <td>...</td>\n",
       "      <td>-5.883972e-09</td>\n",
       "      <td>2.501303e-11</td>\n",
       "      <td>1.246939e-13</td>\n",
       "      <td>-4.833659e-09</td>\n",
       "      <td>2.147544e-11</td>\n",
       "      <td>1.117439e-13</td>\n",
       "      <td>1.711303e-11</td>\n",
       "      <td>9.311302e-14</td>\n",
       "      <td>7.310125e-14</td>\n",
       "      <td>0</td>\n",
       "    </tr>\n",
       "    <tr>\n",
       "      <th>3</th>\n",
       "      <td>-0.323924</td>\n",
       "      <td>0.009698</td>\n",
       "      <td>0.000103</td>\n",
       "      <td>-6.021938e-07</td>\n",
       "      <td>-3.846630e-09</td>\n",
       "      <td>1.492506e-11</td>\n",
       "      <td>6.848757e-14</td>\n",
       "      <td>0.012055</td>\n",
       "      <td>0.000147</td>\n",
       "      <td>-9.097536e-07</td>\n",
       "      <td>...</td>\n",
       "      <td>6.722421e-11</td>\n",
       "      <td>-4.070200e-13</td>\n",
       "      <td>-3.185455e-15</td>\n",
       "      <td>-6.717177e-12</td>\n",
       "      <td>4.448270e-14</td>\n",
       "      <td>4.683753e-16</td>\n",
       "      <td>-4.246603e-15</td>\n",
       "      <td>-4.857226e-17</td>\n",
       "      <td>-6.938894e-18</td>\n",
       "      <td>0</td>\n",
       "    </tr>\n",
       "    <tr>\n",
       "      <th>4</th>\n",
       "      <td>-0.278695</td>\n",
       "      <td>0.016677</td>\n",
       "      <td>0.000205</td>\n",
       "      <td>-1.735297e-06</td>\n",
       "      <td>-1.081151e-08</td>\n",
       "      <td>5.568475e-11</td>\n",
       "      <td>2.314309e-13</td>\n",
       "      <td>-0.002476</td>\n",
       "      <td>-0.000042</td>\n",
       "      <td>4.308525e-07</td>\n",
       "      <td>...</td>\n",
       "      <td>-5.304882e-09</td>\n",
       "      <td>2.810315e-11</td>\n",
       "      <td>1.125119e-13</td>\n",
       "      <td>-4.360439e-09</td>\n",
       "      <td>2.414026e-11</td>\n",
       "      <td>1.008586e-13</td>\n",
       "      <td>1.924716e-11</td>\n",
       "      <td>8.410633e-14</td>\n",
       "      <td>6.602358e-14</td>\n",
       "      <td>0</td>\n",
       "    </tr>\n",
       "  </tbody>\n",
       "</table>\n",
       "<p>5 rows × 113 columns</p>\n",
       "</div>"
      ],
      "text/plain": [
       "         V0        V1        V2            V3            V4            V5  \\\n",
       "0 -0.413479  0.012662  0.000245 -1.320642e-06 -1.293960e-08  4.241382e-11   \n",
       "1 -0.390359  0.008407  0.000112 -5.214329e-07 -4.182755e-09  1.291625e-11   \n",
       "2 -0.350747  0.014758  0.000227 -1.537213e-06 -1.194740e-08  4.934601e-11   \n",
       "3 -0.323924  0.009698  0.000103 -6.021938e-07 -3.846630e-09  1.492506e-11   \n",
       "4 -0.278695  0.016677  0.000205 -1.735297e-06 -1.081151e-08  5.568475e-11   \n",
       "\n",
       "             V6        V7        V8            V9  ...          V103  \\\n",
       "0  2.776066e-13 -0.001858 -0.000050  3.258404e-07  ... -6.392300e-09   \n",
       "1  7.446244e-14  0.010432  0.000160 -7.873437e-07  ...  7.269319e-11   \n",
       "2  2.560606e-13 -0.002180 -0.000046  3.806353e-07  ... -5.883972e-09   \n",
       "3  6.848757e-14  0.012055  0.000147 -9.097536e-07  ...  6.722421e-11   \n",
       "4  2.314309e-13 -0.002476 -0.000042  4.308525e-07  ... -5.304882e-09   \n",
       "\n",
       "           V104          V105          V106          V107          V108  \\\n",
       "0  2.162212e-11  1.353675e-13 -5.248749e-09  1.855230e-11  1.212155e-13   \n",
       "1 -3.492920e-13 -3.420692e-15 -7.252745e-12  3.808366e-14  4.649059e-16   \n",
       "2  2.501303e-11  1.246939e-13 -4.833659e-09  2.147544e-11  1.117439e-13   \n",
       "3 -4.070200e-13 -3.185455e-15 -6.717177e-12  4.448270e-14  4.683753e-16   \n",
       "4  2.810315e-11  1.125119e-13 -4.360439e-09  2.414026e-11  1.008586e-13   \n",
       "\n",
       "           V109          V110          V111  V112  \n",
       "0  1.477309e-11  1.009817e-13  7.930462e-14     0  \n",
       "1 -3.663736e-15 -8.326673e-17 -2.081668e-17     0  \n",
       "2  1.711303e-11  9.311302e-14  7.310125e-14     0  \n",
       "3 -4.246603e-15 -4.857226e-17 -6.938894e-18     0  \n",
       "4  1.924716e-11  8.410633e-14  6.602358e-14     0  \n",
       "\n",
       "[5 rows x 113 columns]"
      ]
     },
     "execution_count": 9,
     "metadata": {},
     "output_type": "execute_result"
    }
   ],
   "source": [
    "df[numerical].head()"
   ]
  },
  {
   "cell_type": "code",
   "execution_count": 10,
   "id": "ebed1d40",
   "metadata": {},
   "outputs": [
    {
     "data": {
      "text/plain": [
       "V0      0\n",
       "V1      0\n",
       "V2      0\n",
       "V3      0\n",
       "V4      0\n",
       "       ..\n",
       "V108    0\n",
       "V109    0\n",
       "V110    0\n",
       "V111    0\n",
       "V112    0\n",
       "Length: 113, dtype: int64"
      ]
     },
     "execution_count": 10,
     "metadata": {},
     "output_type": "execute_result"
    }
   ],
   "source": [
    "df[numerical].isnull().sum()"
   ]
  },
  {
   "cell_type": "code",
   "execution_count": 11,
   "id": "9b94db1a",
   "metadata": {},
   "outputs": [
    {
     "name": "stdout",
     "output_type": "stream",
     "text": [
      "<class 'pandas.core.frame.DataFrame'>\n",
      "RangeIndex: 800000 entries, 0 to 799999\n",
      "Columns: 113 entries, V0 to V112\n",
      "dtypes: float64(112), int64(1)\n",
      "memory usage: 689.7 MB\n"
     ]
    }
   ],
   "source": [
    "df.info()"
   ]
  },
  {
   "cell_type": "code",
   "execution_count": 12,
   "id": "c8291310",
   "metadata": {},
   "outputs": [],
   "source": [
    "# Take 2000 random rows without replacement\n",
    "df_sample = df.sample(2000, replace = False, random_state = 1821)"
   ]
  },
  {
   "cell_type": "code",
   "execution_count": 13,
   "id": "31da629c",
   "metadata": {},
   "outputs": [],
   "source": [
    "X, y = df_sample.drop(\"V112\", axis=1), df_sample[\"V112\"]"
   ]
  },
  {
   "cell_type": "code",
   "execution_count": 14,
   "id": "e281da60",
   "metadata": {},
   "outputs": [
    {
     "name": "stdout",
     "output_type": "stream",
     "text": [
      "X: (2000, 112)\n",
      "y: (2000,)\n"
     ]
    }
   ],
   "source": [
    "print('X:', X.shape)\n",
    "print('y:', y.shape)"
   ]
  },
  {
   "cell_type": "code",
   "execution_count": 15,
   "id": "f162091e",
   "metadata": {},
   "outputs": [],
   "source": [
    "# split X and y into training and testing sets\n",
    "X_train, X_test, y_train, y_test = train_test_split(X, y, test_size = 0.3, random_state = 1821)"
   ]
  },
  {
   "cell_type": "code",
   "execution_count": 16,
   "id": "b230eca5",
   "metadata": {},
   "outputs": [
    {
     "data": {
      "text/plain": [
       "((1400, 112), (600, 112))"
      ]
     },
     "execution_count": 16,
     "metadata": {},
     "output_type": "execute_result"
    }
   ],
   "source": [
    "# check the shape of X_train and X_test\n",
    "X_train.shape, X_test.shape"
   ]
  },
  {
   "cell_type": "code",
   "execution_count": 17,
   "id": "2624110f",
   "metadata": {},
   "outputs": [
    {
     "data": {
      "text/plain": [
       "V0      float64\n",
       "V1      float64\n",
       "V2      float64\n",
       "V3      float64\n",
       "V4      float64\n",
       "         ...   \n",
       "V107    float64\n",
       "V108    float64\n",
       "V109    float64\n",
       "V110    float64\n",
       "V111    float64\n",
       "Length: 112, dtype: object"
      ]
     },
     "execution_count": 17,
     "metadata": {},
     "output_type": "execute_result"
    }
   ],
   "source": [
    "# check data types in X_train\n",
    "X_train.dtypes"
   ]
  },
  {
   "cell_type": "code",
   "execution_count": 18,
   "id": "90c57e40",
   "metadata": {},
   "outputs": [
    {
     "data": {
      "text/plain": [
       "[]"
      ]
     },
     "execution_count": 18,
     "metadata": {},
     "output_type": "execute_result"
    }
   ],
   "source": [
    "# display categorical variables\n",
    "categorical = [col for col in X_train.columns if X_train[col].dtypes == 'O']\n",
    "categorical"
   ]
  },
  {
   "cell_type": "code",
   "execution_count": 19,
   "id": "10a6e2e2",
   "metadata": {},
   "outputs": [
    {
     "data": {
      "text/plain": [
       "V0      0\n",
       "V1      0\n",
       "V2      0\n",
       "V3      0\n",
       "V4      0\n",
       "       ..\n",
       "V107    0\n",
       "V108    0\n",
       "V109    0\n",
       "V110    0\n",
       "V111    0\n",
       "Length: 112, dtype: int64"
      ]
     },
     "execution_count": 19,
     "metadata": {},
     "output_type": "execute_result"
    }
   ],
   "source": [
    "# check missing values in X_train\n",
    "X_train.isnull().sum()"
   ]
  },
  {
   "cell_type": "code",
   "execution_count": 20,
   "id": "987cfe90",
   "metadata": {},
   "outputs": [
    {
     "data": {
      "text/plain": [
       "V0      0\n",
       "V1      0\n",
       "V2      0\n",
       "V3      0\n",
       "V4      0\n",
       "       ..\n",
       "V107    0\n",
       "V108    0\n",
       "V109    0\n",
       "V110    0\n",
       "V111    0\n",
       "Length: 112, dtype: int64"
      ]
     },
     "execution_count": 20,
     "metadata": {},
     "output_type": "execute_result"
    }
   ],
   "source": [
    "# check missing values in X_test\n",
    "X_test.isnull().sum()"
   ]
  },
  {
   "cell_type": "code",
   "execution_count": 21,
   "id": "c492ad6b",
   "metadata": {},
   "outputs": [
    {
     "name": "stderr",
     "output_type": "stream",
     "text": [
      "c:\\users\\izzyd\\anaconda3\\lib\\site-packages\\sklearn\\preprocessing\\_data.py:2590: UserWarning: n_quantiles (1000) is greater than the total number of samples (600). n_quantiles is set to n_samples.\n",
      "  warnings.warn(\n"
     ]
    }
   ],
   "source": [
    "# feature scaling\n",
    "cols = X_train.columns\n",
    "pipe = make_pipeline(RobustScaler(),QuantileTransformer())\n",
    "X_train = pipe.fit_transform(X_train.copy())\n",
    "X_test =  pipe.fit_transform(X_test.copy())"
   ]
  },
  {
   "cell_type": "code",
   "execution_count": 22,
   "id": "366e61d3",
   "metadata": {},
   "outputs": [],
   "source": [
    "X_train = pd.DataFrame(X_train, columns=cols)\n",
    "X_test = pd.DataFrame(X_test, columns=cols)"
   ]
  },
  {
   "cell_type": "code",
   "execution_count": 23,
   "id": "10e6deba",
   "metadata": {},
   "outputs": [
    {
     "data": {
      "text/plain": [
       "Index(['V0', 'V1', 'V2', 'V3', 'V4', 'V5', 'V6', 'V7', 'V8', 'V9',\n",
       "       ...\n",
       "       'V102', 'V103', 'V104', 'V105', 'V106', 'V107', 'V108', 'V109', 'V110',\n",
       "       'V111'],\n",
       "      dtype='object', length=112)"
      ]
     },
     "execution_count": 23,
     "metadata": {},
     "output_type": "execute_result"
    }
   ],
   "source": [
    "X_train.columns\n",
    "X_test.columns"
   ]
  },
  {
   "cell_type": "markdown",
   "id": "9ecb6b03",
   "metadata": {},
   "source": [
    "# Naive Bayes"
   ]
  },
  {
   "cell_type": "code",
   "execution_count": 24,
   "id": "8977779b",
   "metadata": {},
   "outputs": [
    {
     "data": {
      "text/plain": [
       "GaussianNB()"
      ]
     },
     "execution_count": 24,
     "metadata": {},
     "output_type": "execute_result"
    }
   ],
   "source": [
    "# train a Gaussian Naive Bayes classifier on the training set\n",
    "gnb = GaussianNB()\n",
    "gnb.fit(X_train, y_train)"
   ]
  },
  {
   "cell_type": "code",
   "execution_count": 25,
   "id": "ec9627c7",
   "metadata": {},
   "outputs": [
    {
     "name": "stdout",
     "output_type": "stream",
     "text": [
      "Training-set accuracy score: 0.8886\n",
      "Model accuracy score: 0.8850\n",
      "F1: 0.8896\n"
     ]
    }
   ],
   "source": [
    "# predictions train set\n",
    "y_pred_train = gnb.predict(X_train)\n",
    "print('Training-set accuracy score: {0:0.4f}'. format(accuracy_score(y_train, y_pred_train)))\n",
    "# predictions test set\n",
    "y_pred = gnb.predict(X_test)\n",
    "print('Model accuracy score: {0:0.4f}'. format(accuracy_score(y_test, y_pred)))\n",
    "print(\"F1: {0:0.4f}\". format(f1_score(y_test, y_pred)))"
   ]
  },
  {
   "cell_type": "markdown",
   "id": "4281ff16",
   "metadata": {},
   "source": [
    "# Support Vector Machines"
   ]
  },
  {
   "cell_type": "code",
   "execution_count": 26,
   "id": "4e7eb594",
   "metadata": {},
   "outputs": [
    {
     "data": {
      "text/plain": [
       "SVC()"
      ]
     },
     "execution_count": 26,
     "metadata": {},
     "output_type": "execute_result"
    }
   ],
   "source": [
    "# train a Support Vector classifier on the training set\n",
    "svc = SVC()\n",
    "svc.fit(X_train, y_train)"
   ]
  },
  {
   "cell_type": "code",
   "execution_count": 27,
   "id": "e73710b0",
   "metadata": {},
   "outputs": [
    {
     "name": "stdout",
     "output_type": "stream",
     "text": [
      "Training-set accuracy score: 1.0000\n",
      "Model accuracy score: 0.9750\n",
      "F1: 0.9735\n"
     ]
    }
   ],
   "source": [
    "# predictions train set\n",
    "y_pred_train = svc.predict(X_train)\n",
    "print('Training-set accuracy score: {0:0.4f}'. format(accuracy_score(y_train, y_pred_train)))\n",
    "# predictions test set\n",
    "y_pred = svc.predict(X_test)\n",
    "print('Model accuracy score: {0:0.4f}'. format(accuracy_score(y_test, y_pred)))\n",
    "print(\"F1: {0:0.4f}\". format(f1_score(y_test, y_pred)))"
   ]
  },
  {
   "cell_type": "code",
   "execution_count": 28,
   "id": "3c022dd2",
   "metadata": {},
   "outputs": [
    {
     "name": "stdout",
     "output_type": "stream",
     "text": [
      "0    320\n",
      "1    280\n",
      "Name: V112, dtype: int64\n",
      "287\n",
      "Confusion matrix\n",
      "\n",
      " [[309  11]\n",
      " [  4 276]]\n"
     ]
    }
   ],
   "source": [
    "print(y_test.value_counts())\n",
    "print(np.sum(y_pred)) # sum of 1\n",
    "cm = confusion_matrix(y_test, y_pred)\n",
    "print('Confusion matrix\\n\\n', cm)"
   ]
  },
  {
   "cell_type": "code",
   "execution_count": 29,
   "id": "41d5b14f",
   "metadata": {},
   "outputs": [
    {
     "data": {
      "text/plain": [
       "<AxesSubplot:>"
      ]
     },
     "execution_count": 29,
     "metadata": {},
     "output_type": "execute_result"
    },
    {
     "data": {
      "image/png": "[encoded data removed]",
      "text/plain": [
       "<Figure size 432x288 with 2 Axes>"
      ]
     },
     "metadata": {
      "needs_background": "light"
     },
     "output_type": "display_data"
    }
   ],
   "source": [
    "# visualize confusion matrix with seaborn heatmap\n",
    "\n",
    "cm_matrix = pd.DataFrame(data=cm, columns=['Actual Positive:1', 'Actual Negative:0'], \n",
    "                                 index=['Predict Positive:1', 'Predict Negative:0'])\n",
    "\n",
    "sns.heatmap(cm_matrix, annot=True, fmt='d', cmap='YlGnBu')"
   ]
  },
  {
   "cell_type": "code",
   "execution_count": 30,
   "id": "6106e2ad",
   "metadata": {},
   "outputs": [
    {
     "name": "stdout",
     "output_type": "stream",
     "text": [
      "              precision    recall  f1-score   support\n",
      "\n",
      "           0       0.99      0.97      0.98       320\n",
      "           1       0.96      0.99      0.97       280\n",
      "\n",
      "    accuracy                           0.97       600\n",
      "   macro avg       0.97      0.98      0.97       600\n",
      "weighted avg       0.98      0.97      0.98       600\n",
      "\n"
     ]
    }
   ],
   "source": [
    "print(classification_report(y_test, y_pred))"
   ]
  },
  {
   "cell_type": "code",
   "execution_count": 31,
   "id": "38d673e3",
   "metadata": {},
   "outputs": [
    {
     "name": "stdout",
     "output_type": "stream",
     "text": [
      "ROC AUC : 0.9834\n"
     ]
    }
   ],
   "source": [
    "# compute ROC AUC\n",
    "y_pred1 = gnb.predict_proba(X_test)[:, 1]\n",
    "ROC_AUC = roc_auc_score(y_test, y_pred1)\n",
    "print('ROC AUC : {:.4f}'.format(ROC_AUC))"
   ]
  },
  {
   "cell_type": "markdown",
   "id": "e8e550d0",
   "metadata": {},
   "source": [
    "# Feature selection"
   ]
  },
  {
   "cell_type": "code",
   "execution_count": 32,
   "id": "b3ada58a",
   "metadata": {},
   "outputs": [],
   "source": [
    "def select_features(X_train, y_train, X_test):\n",
    "# configure to select all features\n",
    "    #fs = SelectKBest(score_func=f_classif, k='all')\n",
    "    fs = SelectKBest(score_func=f_classif, k = 17)\n",
    "# learn relationship from training data\n",
    "    fs.fit(X_train, y_train)\n",
    "# transform train input data\n",
    "    X_train_fs = fs.transform(X_train)\n",
    "# transform test input data\n",
    "    X_test_fs = fs.transform(X_test)\n",
    "    return X_train_fs, X_test_fs, fs"
   ]
  },
  {
   "cell_type": "code",
   "execution_count": 33,
   "id": "db6888b8",
   "metadata": {},
   "outputs": [],
   "source": [
    "# feature selection\n",
    "X_train_fs, X_test_fs, fs = select_features(X_train, y_train, X_test)"
   ]
  },
  {
   "cell_type": "code",
   "execution_count": 34,
   "id": "19a4b627",
   "metadata": {},
   "outputs": [
    {
     "name": "stdout",
     "output_type": "stream",
     "text": [
      "Feature 0: 105.285914\n",
      "Feature 1: 0.294455\n",
      "Feature 2: 0.138175\n",
      "Feature 3: 2.720845\n",
      "Feature 4: 0.000897\n",
      "Feature 5: 0.794754\n",
      "Feature 6: 1.859258\n",
      "Feature 7: 2.329835\n",
      "Feature 8: 0.772381\n",
      "Feature 9: 1.460590\n",
      "Feature 10: 0.202329\n",
      "Feature 11: 5.591466\n",
      "Feature 12: 0.974928\n",
      "Feature 13: 0.364769\n",
      "Feature 14: 0.040194\n",
      "Feature 15: 5.334155\n",
      "Feature 16: 6.166812\n",
      "Feature 17: 0.002195\n",
      "Feature 18: 0.848456\n",
      "Feature 19: 3.210657\n",
      "Feature 20: 14.443333\n",
      "Feature 21: 4.486782\n",
      "Feature 22: 0.000011\n",
      "Feature 23: 0.102287\n",
      "Feature 24: 0.975310\n",
      "Feature 25: 0.004933\n",
      "Feature 26: 0.063743\n",
      "Feature 27: 3.030309\n",
      "Feature 28: 69.065763\n",
      "Feature 29: 1.607314\n",
      "Feature 30: 0.075536\n",
      "Feature 31: 0.894110\n",
      "Feature 32: 0.000192\n",
      "Feature 33: 0.036123\n",
      "Feature 34: 1.482209\n",
      "Feature 35: 0.398576\n",
      "Feature 36: 1.700274\n",
      "Feature 37: 0.342130\n",
      "Feature 38: 0.410321\n",
      "Feature 39: 0.211972\n",
      "Feature 40: 0.125362\n",
      "Feature 41: 0.001279\n",
      "Feature 42: 1.187546\n",
      "Feature 43: 0.394559\n",
      "Feature 44: 0.266663\n",
      "Feature 45: 0.000267\n",
      "Feature 46: 1.270782\n",
      "Feature 47: 0.255206\n",
      "Feature 48: 2.279694\n",
      "Feature 49: 0.059265\n",
      "Feature 50: 6.034012\n",
      "Feature 51: 0.003176\n",
      "Feature 52: 1.485591\n",
      "Feature 53: 1.359142\n",
      "Feature 54: 0.135323\n",
      "Feature 55: 0.998382\n",
      "Feature 56: 81.861069\n",
      "Feature 57: 0.135044\n",
      "Feature 58: 0.097424\n",
      "Feature 59: 0.071001\n",
      "Feature 60: 0.008686\n",
      "Feature 61: 1.251498\n",
      "Feature 62: 0.041887\n",
      "Feature 63: 2.268630\n",
      "Feature 64: 1.832008\n",
      "Feature 65: 0.209268\n",
      "Feature 66: 0.015434\n",
      "Feature 67: 0.902761\n",
      "Feature 68: 0.057443\n",
      "Feature 69: 0.538971\n",
      "Feature 70: 1.103896\n",
      "Feature 71: 0.049228\n",
      "Feature 72: 3.309754\n",
      "Feature 73: 1.097452\n",
      "Feature 74: 2.421216\n",
      "Feature 75: 0.073125\n",
      "Feature 76: 2.926860\n",
      "Feature 77: 2.038390\n",
      "Feature 78: 1.506870\n",
      "Feature 79: 2.419601\n",
      "Feature 80: 1.777741\n",
      "Feature 81: 0.294597\n",
      "Feature 82: 0.342151\n",
      "Feature 83: 1.926091\n",
      "Feature 84: 64.375863\n",
      "Feature 85: 0.117417\n",
      "Feature 86: 0.041032\n",
      "Feature 87: 0.004153\n",
      "Feature 88: 0.321001\n",
      "Feature 89: 0.086052\n",
      "Feature 90: 1.185789\n",
      "Feature 91: 0.757594\n",
      "Feature 92: 0.223346\n",
      "Feature 93: 0.114060\n",
      "Feature 94: 1.204336\n",
      "Feature 95: 0.491180\n",
      "Feature 96: 0.457988\n",
      "Feature 97: 1.676092\n",
      "Feature 98: 0.005640\n",
      "Feature 99: 0.034249\n",
      "Feature 100: 0.001989\n",
      "Feature 101: 0.019966\n",
      "Feature 102: 0.016614\n",
      "Feature 103: 0.665471\n",
      "Feature 104: 0.122124\n",
      "Feature 105: 0.526779\n",
      "Feature 106: 0.067582\n",
      "Feature 107: 0.001869\n",
      "Feature 108: 1.645868\n",
      "Feature 109: 3.406845\n",
      "Feature 110: 1.269944\n",
      "Feature 111: 0.942156\n"
     ]
    }
   ],
   "source": [
    "# what are scores for the features\n",
    "for i in range(len(fs.scores_)):\n",
    "    print('Feature %d: %f' % (i, fs.scores_[i]))"
   ]
  },
  {
   "cell_type": "code",
   "execution_count": 35,
   "id": "be20de28",
   "metadata": {
    "scrolled": true
   },
   "outputs": [
    {
     "data": {
      "image/png": "[encoded data removed]",
      "text/plain": [
       "<Figure size 720x324 with 1 Axes>"
      ]
     },
     "metadata": {
      "needs_background": "light"
     },
     "output_type": "display_data"
    }
   ],
   "source": [
    "# plot the scores\n",
    "from matplotlib import pyplot as plt\n",
    "plt.rcParams[\"figure.figsize\"] = [10, 4.50]\n",
    "plt.rcParams[\"figure.autolayout\"] = True\n",
    "plt.bar([i for i in range(len(fs.scores_))], fs.scores_)\n",
    "plt.show()"
   ]
  },
  {
   "cell_type": "markdown",
   "id": "00d73fc8",
   "metadata": {},
   "source": [
    "# Build a new model with reduced number of features"
   ]
  },
  {
   "cell_type": "code",
   "execution_count": 36,
   "id": "9ba21cbd",
   "metadata": {},
   "outputs": [
    {
     "name": "stdout",
     "output_type": "stream",
     "text": [
      "Training-set accuracy score: 0.99\n",
      "Testing-set accuracy score: 0.95\n",
      "F1: 0.95\n",
      "              precision    recall  f1-score   support\n",
      "\n",
      "           0       0.96      0.94      0.95       320\n",
      "           1       0.93      0.96      0.95       280\n",
      "\n",
      "    accuracy                           0.95       600\n",
      "   macro avg       0.95      0.95      0.95       600\n",
      "weighted avg       0.95      0.95      0.95       600\n",
      "\n"
     ]
    }
   ],
   "source": [
    "# train a Support Vector classifier on the training set\n",
    "svc = SVC()\n",
    "svc.fit(X_train_fs, y_train)\n",
    "# predictions train set\n",
    "y_pred_train = svc.predict(X_train_fs)\n",
    "print('Training-set accuracy score: {0:0.2f}'. format(accuracy_score(y_train, y_pred_train)))\n",
    "# predictions test set\n",
    "y_pred = svc.predict(X_test_fs)\n",
    "print('Testing-set accuracy score: {0:0.2f}'. format(accuracy_score(y_test, y_pred)))\n",
    "print(\"F1: {0:0.2f}\". format(f1_score(y_test, y_pred)))\n",
    "print(classification_report(y_test, y_pred))"
   ]
  },
  {
   "cell_type": "code",
   "execution_count": 37,
   "id": "7852eb62",
   "metadata": {},
   "outputs": [
    {
     "data": {
      "text/plain": [
       "(1400, 17)"
      ]
     },
     "execution_count": 37,
     "metadata": {},
     "output_type": "execute_result"
    }
   ],
   "source": [
    "X_train_fs.shape"
   ]
  },
  {
   "cell_type": "markdown",
   "id": "3aa61aed",
   "metadata": {},
   "source": [
    "# UMAP"
   ]
  },
  {
   "cell_type": "code",
   "execution_count": 38,
   "id": "fbf1a7f3",
   "metadata": {},
   "outputs": [],
   "source": [
    "# Now apply the UMAP transformation\n",
    "# Supervised UMAP transformation on the training set with reduced features\n",
    "manifold = umap.UMAP(n_neighbors = 14, min_dist = 0.1, n_components = 2, metric = \"manhattan\").fit(X_train_fs, y_train)\n",
    "X_reduced = manifold.transform(X_train_fs)"
   ]
  },
  {
   "cell_type": "code",
   "execution_count": 39,
   "id": "10ce248d",
   "metadata": {},
   "outputs": [
    {
     "data": {
      "text/plain": [
       "1.0"
      ]
     },
     "execution_count": 39,
     "metadata": {},
     "output_type": "execute_result"
    }
   ],
   "source": [
    "# Fit a model with UMAP transformation applied\n",
    "svc = SVC().fit(X_reduced, y_train)\n",
    "svc.score(X_reduced, y_train)"
   ]
  },
  {
   "cell_type": "code",
   "execution_count": 40,
   "id": "b7163e5e",
   "metadata": {},
   "outputs": [
    {
     "data": {
      "image/png": "[encoded data removed]",
      "text/plain": [
       "<Figure size 720x324 with 1 Axes>"
      ]
     },
     "metadata": {
      "needs_background": "light"
     },
     "output_type": "display_data"
    }
   ],
   "source": [
    "plt.scatter(X_reduced[:, 0], X_reduced[:, 1], c = y_train, s = 11, cmap = 'Spectral');\n",
    "plt.title('Embedding of the training dataset with reduced features by UMAP', fontsize = 14);"
   ]
  },
  {
   "cell_type": "markdown",
   "id": "4e020480",
   "metadata": {},
   "source": [
    "# Predictions on the test with UMAP and with reduced features as predictors"
   ]
  },
  {
   "cell_type": "code",
   "execution_count": 41,
   "id": "3204bf29",
   "metadata": {},
   "outputs": [
    {
     "data": {
      "text/plain": [
       "0.9716666666666667"
      ]
     },
     "execution_count": 41,
     "metadata": {},
     "output_type": "execute_result"
    }
   ],
   "source": [
    "X_reduced = manifold.transform(X_test_fs)\n",
    "svc.score(X_reduced, y_test)"
   ]
  },
  {
   "cell_type": "code",
   "execution_count": 42,
   "id": "e14171c7",
   "metadata": {},
   "outputs": [
    {
     "data": {
      "image/png": "[encoded data removed]",
      "text/plain": [
       "<Figure size 720x324 with 1 Axes>"
      ]
     },
     "metadata": {
      "needs_background": "light"
     },
     "output_type": "display_data"
    }
   ],
   "source": [
    "plt.scatter(X_reduced[:, 0], X_reduced[:, 1], c = y_test, s = 11, cmap = 'Spectral');\n",
    "plt.title('Embedding of the testing dataset by UMAP', fontsize = 14);"
   ]
  },
  {
   "cell_type": "markdown",
   "id": "1a3d5ecd",
   "metadata": {},
   "source": [
    "# Random Forest"
   ]
  },
  {
   "cell_type": "code",
   "execution_count": 43,
   "id": "ac59e395",
   "metadata": {},
   "outputs": [],
   "source": [
    "# Instantiate model with 1000 decision trees\n",
    "rf = RandomForestClassifier(n_estimators = 1000, random_state = 1821)"
   ]
  },
  {
   "cell_type": "code",
   "execution_count": 44,
   "id": "b09d6932",
   "metadata": {},
   "outputs": [
    {
     "name": "stdout",
     "output_type": "stream",
     "text": [
      "Training-set accuracy score: 1.00\n",
      "Testing-set accuracy score: 0.92\n",
      "F1: 0.92\n",
      "              precision    recall  f1-score   support\n",
      "\n",
      "           0       1.00      0.85      0.92       320\n",
      "           1       0.86      1.00      0.92       280\n",
      "\n",
      "    accuracy                           0.92       600\n",
      "   macro avg       0.93      0.93      0.92       600\n",
      "weighted avg       0.93      0.92      0.92       600\n",
      "\n"
     ]
    }
   ],
   "source": [
    "# train a Random Forest classifier on the training set\n",
    "rf.fit(X_train_fs, y_train)\n",
    "# predictions train set\n",
    "y_pred_train = rf.predict(X_train_fs)\n",
    "print('Training-set accuracy score: {0:0.2f}'. format(accuracy_score(y_train, y_pred_train)))\n",
    "# predictions test set\n",
    "y_pred = rf.predict(X_test_fs)\n",
    "print('Testing-set accuracy score: {0:0.2f}'. format(accuracy_score(y_test, y_pred)))\n",
    "print(\"F1: {0:0.2f}\". format(f1_score(y_test, y_pred)))\n",
    "print(classification_report(y_test, y_pred))"
   ]
  },
  {
   "cell_type": "markdown",
   "id": "ad7157ab",
   "metadata": {},
   "source": [
    "# XGboost"
   ]
  },
  {
   "cell_type": "code",
   "execution_count": 45,
   "id": "0eb8d82b",
   "metadata": {},
   "outputs": [],
   "source": [
    "xgb_model = xgb.XGBClassifier(objective=\"binary:logistic\", random_state = 1821, use_label_encoder = False)"
   ]
  },
  {
   "cell_type": "code",
   "execution_count": 46,
   "id": "b9bf4d3b",
   "metadata": {},
   "outputs": [
    {
     "name": "stdout",
     "output_type": "stream",
     "text": [
      "[00:33:23] WARNING: D:\\bld\\xgboost-split_1643227225381\\work\\src\\learner.cc:1115: Starting in XGBoost 1.3.0, the default evaluation metric used with the objective 'binary:logistic' was changed from 'error' to 'logloss'. Explicitly set eval_metric if you'd like to restore the old behavior.\n",
      "Training-set accuracy score: 1.00\n",
      "Testing-set accuracy score: 0.96\n",
      "F1: 0.96\n",
      "              precision    recall  f1-score   support\n",
      "\n",
      "           0       1.00      0.93      0.96       320\n",
      "           1       0.92      1.00      0.96       280\n",
      "\n",
      "    accuracy                           0.96       600\n",
      "   macro avg       0.96      0.96      0.96       600\n",
      "weighted avg       0.96      0.96      0.96       600\n",
      "\n"
     ]
    }
   ],
   "source": [
    "# train an XGBoost classifier on the training set\n",
    "xgb_model.fit(X_train_fs, y_train)\n",
    "# predictions train set\n",
    "y_pred_train = xgb_model.predict(X_train_fs)\n",
    "print('Training-set accuracy score: {0:0.2f}'. format(accuracy_score(y_train, y_pred_train)))\n",
    "# predictions test set\n",
    "y_pred = xgb_model.predict(X_test_fs)\n",
    "print('Testing-set accuracy score: {0:0.2f}'. format(accuracy_score(y_test, y_pred)))\n",
    "print(\"F1: {0:0.2f}\". format(f1_score(y_test, y_pred)))\n",
    "print(classification_report(y_test, y_pred))"
   ]
  },
  {
   "cell_type": "code",
   "execution_count": 47,
   "id": "aab66514",
   "metadata": {},
   "outputs": [
    {
     "data": {
      "image/png": "[encoded data removed]",
      "text/plain": [
       "<Figure size 720x324 with 1 Axes>"
      ]
     },
     "metadata": {
      "needs_background": "light"
     },
     "output_type": "display_data"
    }
   ],
   "source": [
    "xgb.plot_importance(xgb_model);"
   ]
  },
  {
   "cell_type": "markdown",
   "id": "3148a145",
   "metadata": {},
   "source": [
    "# UMAP and XGBoost"
   ]
  },
  {
   "cell_type": "code",
   "execution_count": 48,
   "id": "e0b4c770",
   "metadata": {},
   "outputs": [],
   "source": [
    "# Now apply the UMAP transformation\n",
    "# Supervised UMAP transformation on the training set with reduced features\n",
    "manifold = umap.UMAP(n_neighbors = 14, min_dist = 0.1, n_components = 2, metric = \"manhattan\").fit(X_train_fs, y_train)\n",
    "X_reduced = manifold.transform(X_train_fs)"
   ]
  },
  {
   "cell_type": "code",
   "execution_count": 49,
   "id": "0ca1d813",
   "metadata": {},
   "outputs": [
    {
     "name": "stdout",
     "output_type": "stream",
     "text": [
      "[00:33:28] WARNING: D:\\bld\\xgboost-split_1643227225381\\work\\src\\learner.cc:1115: Starting in XGBoost 1.3.0, the default evaluation metric used with the objective 'binary:logistic' was changed from 'error' to 'logloss'. Explicitly set eval_metric if you'd like to restore the old behavior.\n",
      "Training-set accuracy score: 1.00\n",
      "Testing-set accuracy score: 0.97\n",
      "F1: 0.97\n",
      "              precision    recall  f1-score   support\n",
      "\n",
      "           0       0.95      0.99      0.97       320\n",
      "           1       0.99      0.95      0.97       280\n",
      "\n",
      "    accuracy                           0.97       600\n",
      "   macro avg       0.97      0.97      0.97       600\n",
      "weighted avg       0.97      0.97      0.97       600\n",
      "\n"
     ]
    }
   ],
   "source": [
    "# Train an XGBOost model with UMAP transformation applied and with reduced features\n",
    "xgb_model.fit(X_reduced, y_train)\n",
    "# predictions train set\n",
    "y_pred_train = xgb_model.predict(X_reduced)\n",
    "print('Training-set accuracy score: {0:0.2f}'. format(accuracy_score(y_train, y_pred_train)))\n",
    "# predictions test set\n",
    "y_pred = xgb_model.predict(manifold.transform(X_test_fs))\n",
    "print('Testing-set accuracy score: {0:0.2f}'. format(accuracy_score(y_test, y_pred)))\n",
    "print(\"F1: {0:0.2f}\". format(f1_score(y_test, y_pred)))\n",
    "print(classification_report(y_test, y_pred))"
   ]
  },
  {
   "cell_type": "code",
   "execution_count": 50,
   "id": "5da3769d",
   "metadata": {},
   "outputs": [
    {
     "data": {
      "text/plain": [
       "(1400, 17)"
      ]
     },
     "execution_count": 50,
     "metadata": {},
     "output_type": "execute_result"
    }
   ],
   "source": [
    "X_train_fs.shape"
   ]
  },
  {
   "cell_type": "markdown",
   "id": "9f9b6c83",
   "metadata": {},
   "source": [
    "# Validation set"
   ]
  },
  {
   "cell_type": "code",
   "execution_count": 51,
   "id": "73da3f57",
   "metadata": {},
   "outputs": [],
   "source": [
    "shock_4 = pd.read_csv(\"shock_4.csv\", header = None)"
   ]
  },
  {
   "cell_type": "code",
   "execution_count": 52,
   "id": "2267a5ca",
   "metadata": {},
   "outputs": [
    {
     "data": {
      "text/plain": [
       "Index(['V0', 'V1', 'V2', 'V3', 'V4', 'V5', 'V6', 'V7', 'V8', 'V9',\n",
       "       ...\n",
       "       'V103', 'V104', 'V105', 'V106', 'V107', 'V108', 'V109', 'V110', 'V111',\n",
       "       'V112'],\n",
       "      dtype='object', length=113)"
      ]
     },
     "execution_count": 52,
     "metadata": {},
     "output_type": "execute_result"
    }
   ],
   "source": [
    "shock_4.columns = header_list\n",
    "shock_4.columns"
   ]
  },
  {
   "cell_type": "code",
   "execution_count": 53,
   "id": "138f00af",
   "metadata": {},
   "outputs": [
    {
     "name": "stdout",
     "output_type": "stream",
     "text": [
      "X: (2000, 112)\n",
      "y: (2000,)\n"
     ]
    }
   ],
   "source": [
    "X_test, y_test = shock_4.drop(\"V112\", axis=1), shock_4[[\"V112\"]].values.flatten()\n",
    "print('X:', X.shape)\n",
    "print('y:', y.shape)"
   ]
  },
  {
   "cell_type": "code",
   "execution_count": 54,
   "id": "ca49e99d",
   "metadata": {},
   "outputs": [],
   "source": [
    "X_test = fs.transform(X_test)"
   ]
  },
  {
   "cell_type": "code",
   "execution_count": 55,
   "id": "72daa308",
   "metadata": {},
   "outputs": [
    {
     "name": "stderr",
     "output_type": "stream",
     "text": [
      "c:\\users\\izzyd\\anaconda3\\lib\\site-packages\\sklearn\\preprocessing\\_data.py:2590: UserWarning: n_quantiles (1000) is greater than the total number of samples (800). n_quantiles is set to n_samples.\n",
      "  warnings.warn(\n"
     ]
    }
   ],
   "source": [
    "# feature scaling\n",
    "# cols = X_test.columns\n",
    "pipe = make_pipeline(RobustScaler(),QuantileTransformer())\n",
    "X_test =  pipe.fit_transform(X_test.copy())\n",
    "# X_test = pd.DataFrame(X_test, columns=cols)"
   ]
  },
  {
   "cell_type": "code",
   "execution_count": 56,
   "id": "dd028552",
   "metadata": {},
   "outputs": [
    {
     "name": "stdout",
     "output_type": "stream",
     "text": [
      "Testing-set accuracy score: 0.75\n",
      "F1: 0.15\n",
      "              precision    recall  f1-score   support\n",
      "\n",
      "           0       0.99      0.75      0.86       779\n",
      "           1       0.08      0.86      0.15        21\n",
      "\n",
      "    accuracy                           0.75       800\n",
      "   macro avg       0.54      0.80      0.50       800\n",
      "weighted avg       0.97      0.75      0.84       800\n",
      "\n"
     ]
    }
   ],
   "source": [
    "# predictions test set with umap and reduced features\n",
    "X_reduced = manifold.transform(X_test)\n",
    "y_pred = xgb_model.predict(X_reduced)\n",
    "print('Testing-set accuracy score: {0:0.2f}'. format(accuracy_score(y_test, y_pred)))\n",
    "print(\"F1: {0:0.2f}\". format(f1_score(y_test, y_pred)))\n",
    "print(classification_report(y_test, y_pred))"
   ]
  },
  {
   "cell_type": "code",
   "execution_count": 57,
   "id": "78ae2420",
   "metadata": {},
   "outputs": [
    {
     "data": {
      "image/png": "[encoded data removed]",
      "text/plain": [
       "<Figure size 720x324 with 1 Axes>"
      ]
     },
     "metadata": {
      "needs_background": "light"
     },
     "output_type": "display_data"
    }
   ],
   "source": [
    "plt.scatter(X_reduced[:, 0], X_reduced[:, 1], c = y_test, s = 11, cmap = 'Spectral');\n",
    "plt.title('Embedding of the shock_4 dataset by UMAP and reduced features', fontsize=14);"
   ]
  },
  {
   "cell_type": "markdown",
   "id": "879ed5e2",
   "metadata": {},
   "source": [
    "# Build an XGBoost model without umap and only with reduced features "
   ]
  },
  {
   "cell_type": "code",
   "execution_count": 58,
   "id": "8e08d742",
   "metadata": {},
   "outputs": [],
   "source": [
    "xgb_model = xgb.XGBClassifier(objective=\"binary:logistic\", random_state = 1821, use_label_encoder = False)"
   ]
  },
  {
   "cell_type": "code",
   "execution_count": 59,
   "id": "6cf17a62",
   "metadata": {},
   "outputs": [
    {
     "name": "stdout",
     "output_type": "stream",
     "text": [
      "[00:33:37] WARNING: D:\\bld\\xgboost-split_1643227225381\\work\\src\\learner.cc:1115: Starting in XGBoost 1.3.0, the default evaluation metric used with the objective 'binary:logistic' was changed from 'error' to 'logloss'. Explicitly set eval_metric if you'd like to restore the old behavior.\n",
      "Testing-set accuracy score: 0.52\n",
      "F1: 0.10\n",
      "              precision    recall  f1-score   support\n",
      "\n",
      "           0       1.00      0.50      0.67       779\n",
      "           1       0.05      1.00      0.10        21\n",
      "\n",
      "    accuracy                           0.52       800\n",
      "   macro avg       0.53      0.75      0.38       800\n",
      "weighted avg       0.98      0.51      0.65       800\n",
      "\n"
     ]
    }
   ],
   "source": [
    "xgb_model.fit(X_train_fs, y_train)\n",
    "y_pred = xgb_model.predict(X_test)\n",
    "print('Testing-set accuracy score: {0:0.2f}'. format(accuracy_score(y_test, y_pred)))\n",
    "print(\"F1: {0:0.2f}\". format(f1_score(y_test, y_pred)))\n",
    "print(classification_report(y_test, y_pred))"
   ]
  },
  {
   "cell_type": "code",
   "execution_count": 60,
   "id": "c0ccc0de",
   "metadata": {},
   "outputs": [
    {
     "data": {
      "text/plain": [
       "(1400, 17)"
      ]
     },
     "execution_count": 60,
     "metadata": {},
     "output_type": "execute_result"
    }
   ],
   "source": [
    "X_train_fs.shape"
   ]
  },
  {
   "cell_type": "markdown",
   "id": "adcc7b6e",
   "metadata": {},
   "source": [
    "# Build an XGBoost model without umap and without reduced features"
   ]
  },
  {
   "cell_type": "code",
   "execution_count": 61,
   "id": "a52d9b2d",
   "metadata": {},
   "outputs": [],
   "source": [
    "xgb_model = xgb.XGBClassifier(objective=\"binary:logistic\", random_state = 1821, use_label_encoder = False)"
   ]
  },
  {
   "cell_type": "code",
   "execution_count": 62,
   "id": "5e989247",
   "metadata": {},
   "outputs": [
    {
     "name": "stderr",
     "output_type": "stream",
     "text": [
      "c:\\users\\izzyd\\anaconda3\\lib\\site-packages\\sklearn\\preprocessing\\_data.py:2590: UserWarning: n_quantiles (1000) is greater than the total number of samples (800). n_quantiles is set to n_samples.\n",
      "  warnings.warn(\n"
     ]
    }
   ],
   "source": [
    "X_test, y_test = shock_4.drop(\"V112\", axis=1), shock_4[[\"V112\"]].values.flatten()\n",
    "pipe = make_pipeline(RobustScaler(),QuantileTransformer())\n",
    "X_test =  pipe.fit_transform(X_test.copy())"
   ]
  },
  {
   "cell_type": "code",
   "execution_count": 63,
   "id": "13827297",
   "metadata": {},
   "outputs": [
    {
     "name": "stderr",
     "output_type": "stream",
     "text": [
      "c:\\users\\izzyd\\anaconda3\\lib\\site-packages\\xgboost\\data.py:262: FutureWarning: pandas.Int64Index is deprecated and will be removed from pandas in a future version. Use pandas.Index with the appropriate dtype instead.\n",
      "  elif isinstance(data.columns, (pd.Int64Index, pd.RangeIndex)):\n"
     ]
    },
    {
     "name": "stdout",
     "output_type": "stream",
     "text": [
      "[00:33:37] WARNING: D:\\bld\\xgboost-split_1643227225381\\work\\src\\learner.cc:1115: Starting in XGBoost 1.3.0, the default evaluation metric used with the objective 'binary:logistic' was changed from 'error' to 'logloss'. Explicitly set eval_metric if you'd like to restore the old behavior.\n",
      "Testing-set accuracy score: 0.51\n",
      "F1: 0.10\n",
      "              precision    recall  f1-score   support\n",
      "\n",
      "           0       1.00      0.50      0.67       779\n",
      "           1       0.05      1.00      0.10        21\n",
      "\n",
      "    accuracy                           0.51       800\n",
      "   macro avg       0.53      0.75      0.38       800\n",
      "weighted avg       0.98      0.51      0.65       800\n",
      "\n"
     ]
    }
   ],
   "source": [
    "xgb_model.fit(X_train, y_train)\n",
    "y_pred = xgb_model.predict(X_test)\n",
    "print('Testing-set accuracy score: {0:0.2f}'. format(accuracy_score(y_test, y_pred)))\n",
    "print(\"F1: {0:0.2f}\". format(f1_score(y_test, y_pred)))\n",
    "print(classification_report(y_test, y_pred))"
   ]
  },
  {
   "cell_type": "code",
   "execution_count": 64,
   "id": "5935076b",
   "metadata": {},
   "outputs": [
    {
     "data": {
      "text/plain": [
       "(1400, 112)"
      ]
     },
     "execution_count": 64,
     "metadata": {},
     "output_type": "execute_result"
    }
   ],
   "source": [
    "X_train.shape"
   ]
  },
  {
   "cell_type": "code",
   "execution_count": null,
   "id": "9aacca65",
   "metadata": {},
   "outputs": [],
   "source": []
  },
  {
   "cell_type": "code",
   "execution_count": null,
   "id": "bacceb52",
   "metadata": {},
   "outputs": [],
   "source": []
  },
  {
   "cell_type": "code",
   "execution_count": null,
   "id": "a1135516",
   "metadata": {},
   "outputs": [],
   "source": []
  },
  {
   "cell_type": "code",
   "execution_count": null,
   "id": "7deb79c7",
   "metadata": {},
   "outputs": [],
   "source": []
  },
  {
   "cell_type": "code",
   "execution_count": null,
   "id": "078f741e",
   "metadata": {},
   "outputs": [],
   "source": []
  },
  {
   "cell_type": "code",
   "execution_count": null,
   "id": "7eb3d825",
   "metadata": {},
   "outputs": [],
   "source": []
  },
  {
   "cell_type": "code",
   "execution_count": null,
   "id": "45475929",
   "metadata": {},
   "outputs": [],
   "source": []
  },
  {
   "cell_type": "code",
   "execution_count": null,
   "id": "d9e013e5",
   "metadata": {},
   "outputs": [],
   "source": []
  },
  {
   "cell_type": "code",
   "execution_count": null,
   "id": "d5a0f868",
   "metadata": {},
   "outputs": [],
   "source": []
  }
 ],
 "metadata": {
  "kernelspec": {
   "display_name": "Python 3 (ipykernel)",
   "language": "python",
   "name": "python3"
  },
  "language_info": {
   "codemirror_mode": {
    "name": "ipython",
    "version": 3
   },
   "file_extension": ".py",
   "mimetype": "text/x-python",
   "name": "python",
   "nbconvert_exporter": "python",
   "pygments_lexer": "ipython3",
   "version": "3.9.7"
  }
 },
 "nbformat": 4,
 "nbformat_minor": 5
}
